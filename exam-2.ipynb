{
 "cells": [
  {
   "cell_type": "markdown",
   "id": "3d972ae6",
   "metadata": {},
   "source": [
    "# <center><font color='GREEN'>EXAM-2</font></center>"
   ]
  },
  {
   "cell_type": "markdown",
   "id": "0327efd9",
   "metadata": {},
   "source": [
    "# Problem-1"
   ]
  },
  {
   "cell_type": "code",
   "execution_count": 6,
   "id": "6fa42231",
   "metadata": {},
   "outputs": [],
   "source": [
    "#importing all libraries\n",
    "import os \n",
    "import pandas as pd\n",
    "import numpy as np"
   ]
  },
  {
   "cell_type": "code",
   "execution_count": 3,
   "id": "6de1a628",
   "metadata": {},
   "outputs": [],
   "source": [
    "def seidal (a,x,b):\n",
    "# finding length of a(3)\n",
    "    n = len(a)\n",
    "#for loop fro 3 times as to calculate x,y,z\n",
    "    for j in range (0,n):\n",
    "# temp variable d to store b[j]\n",
    "        d = b[j]\n",
    "        \n",
    "# to calculate respective xi,yi,zi\n",
    "        for i in range (0,n):\n",
    "            if(j != i):\n",
    "                d-=a[j][i] * x[i]\n",
    "# updtaing the value of our solution\n",
    "        x[j] = d/ a[j][j]\n",
    "#returning our updated solution\n",
    "    return x"
   ]
  },
  {
   "cell_type": "code",
   "execution_count": 49,
   "id": "3fdda554",
   "metadata": {},
   "outputs": [
    {
     "ename": "IndentationError",
     "evalue": "unexpected indent (466867411.py, line 10)",
     "output_type": "error",
     "traceback": [
      "\u001b[1;36m  Cell \u001b[1;32mIn [49], line 10\u001b[1;36m\u001b[0m\n\u001b[1;33m    Fa = 600 - Fh\u001b[0m\n\u001b[1;37m    ^\u001b[0m\n\u001b[1;31mIndentationError\u001b[0m\u001b[1;31m:\u001b[0m unexpected indent\n"
     ]
    }
   ],
   "source": [
    "#defining forces of truss\n",
    "def mainForces():\n",
    "    \n",
    "    Fa = 0\n",
    "    Fh = 0\n",
    "    sumFx = 0\n",
    "    sumFy = 0\n",
    "    Fh = 1400/6\n",
    "    print('Support Fh = ' + str(Fh) + 'Kn')\n",
    "     Fa = 600 - Fh\n",
    "    print('Support Fa = ' + str(Fa) + 'Kn')"
   ]
  },
  {
   "cell_type": "code",
   "execution_count": null,
   "id": "7f05b208",
   "metadata": {},
   "outputs": [],
   "source": [
    "def jointA():\n",
    "    print('')\n",
    "    print('Joint A')\n",
    "    print('')\n",
    "    AB = 366.7/0.707\n",
    "    print('Member AB = ' + str(AB) + 'Kn '+ ' (C)')\n",
    "    AC = (518.67*0.5)\n",
    "    print('Member AC = ' + str(AC) + 'Kn ' + ' (T)')"
   ]
  },
  {
   "cell_type": "code",
   "execution_count": null,
   "id": "e69061ee",
   "metadata": {},
   "outputs": [],
   "source": [
    " jointC()\n",
    "\n",
    "def jointC():\n",
    "    print('')\n",
    "    print('Joint C')\n",
    "    print('')\n",
    "    CE = 466.6\n",
    "    print('Member CE = ' + str(CE)+ ' Kn ' + ' (T)')\n",
    "    BC = 404.08\n",
    "    print('Member BC = ' + str(BC)+ ' Kn')"
   ]
  },
  {
   "cell_type": "code",
   "execution_count": null,
   "id": "a5a98de0",
   "metadata": {},
   "outputs": [],
   "source": [
    "def jointH():\n",
    "    print('')\n",
    "    print('Joint H')\n",
    "    print('')\n",
    "    HF = -(175/0.5)\n",
    "    print('Member HF = ' + str(HF)+ ' Kn ' + ' (C)')\n",
    "\n",
    "    print('')\n",
    "    print('Joint F already determined above')\n",
    "    print('')\n",
    "\n",
    "def trussAnalysis():\n",
    "    print(\"Welcome to truss analysis\")\n",
    "\n",
    "    mainForces()\n",
    "\n",
    "trussAnalysis() "
   ]
  },
  {
   "cell_type": "code",
   "execution_count": null,
   "id": "558fce8d",
   "metadata": {},
   "outputs": [],
   "source": []
  },
  {
   "cell_type": "code",
   "execution_count": null,
   "id": "9fd9e1a7",
   "metadata": {},
   "outputs": [],
   "source": []
  },
  {
   "cell_type": "markdown",
   "id": "d6175fd4",
   "metadata": {},
   "source": [
    "# Problem-2"
   ]
  },
  {
   "cell_type": "code",
   "execution_count": 4,
   "id": "7132532d",
   "metadata": {},
   "outputs": [],
   "source": [
    "#importing all libraries\n",
    "import os \n",
    "import pandas as pd\n",
    "import numpy as np\n",
    "import geopandas as gpd\n",
    "import matplotlib.pyplot as plt \n",
    "from shapely.geometry import Point"
   ]
  },
  {
   "cell_type": "code",
   "execution_count": 42,
   "id": "32c412d1",
   "metadata": {},
   "outputs": [
    {
     "ename": "SyntaxError",
     "evalue": "(unicode error) 'unicodeescape' codec can't decode bytes in position 2-3: truncated \\UXXXXXXXX escape (703511700.py, line 2)",
     "output_type": "error",
     "traceback": [
      "\u001b[1;36m  Cell \u001b[1;32mIn [42], line 2\u001b[1;36m\u001b[0m\n\u001b[1;33m    a= pd.read_csv('C:\\Users\\Owner\\data2')\u001b[0m\n\u001b[1;37m                                         ^\u001b[0m\n\u001b[1;31mSyntaxError\u001b[0m\u001b[1;31m:\u001b[0m (unicode error) 'unicodeescape' codec can't decode bytes in position 2-3: truncated \\UXXXXXXXX escape\n"
     ]
    }
   ],
   "source": [
    "# setworking directory\n",
    "a= pd.read_csv('C:\\Users\\Owner\\data2')"
   ]
  },
  {
   "cell_type": "code",
   "execution_count": null,
   "id": "f8dbb8e0",
   "metadata": {},
   "outputs": [],
   "source": [
    "#Link for data:https://nwis.waterdata.usgs.gov/tx/nwis/peak?site_no=08039100&agency_cd=USGS&format=html"
   ]
  },
  {
   "cell_type": "code",
   "execution_count": 5,
   "id": "b4d85da3",
   "metadata": {},
   "outputs": [],
   "source": [
    "# The function is r-0.44/n+0.12\n",
    "def func( x ):              #f(x) is the emperical CDF of x\n",
    "    return r-0.44/n+0.12"
   ]
  },
  {
   "cell_type": "code",
   "execution_count": null,
   "id": "2a52f2b4",
   "metadata": {},
   "outputs": [],
   "source": [
    "#Extract data of required column\n",
    "b=a.iloc[:1,]\n",
    "b"
   ]
  },
  {
   "cell_type": "code",
   "execution_count": null,
   "id": "bc403a50",
   "metadata": {},
   "outputs": [],
   "source": []
  },
  {
   "cell_type": "code",
   "execution_count": null,
   "id": "b52efe45",
   "metadata": {},
   "outputs": [],
   "source": []
  },
  {
   "cell_type": "code",
   "execution_count": null,
   "id": "af8c2945",
   "metadata": {},
   "outputs": [],
   "source": []
  },
  {
   "cell_type": "markdown",
   "id": "5f4d3d0a",
   "metadata": {},
   "source": [
    "# Problem -3"
   ]
  },
  {
   "cell_type": "code",
   "execution_count": 53,
   "id": "2490ab6b",
   "metadata": {},
   "outputs": [],
   "source": [
    "#importing all libraries\n",
    "import os \n",
    "import math\n",
    "import pandas as pd\n",
    "import numpy as np"
   ]
  },
  {
   "cell_type": "code",
   "execution_count": 60,
   "id": "7b93a0bd",
   "metadata": {},
   "outputs": [],
   "source": [
    "# The function is  1.49/n * A * math.pow(R, 2/3) * math.sqrt(s)\n",
    "Q= lambda A,R,N,S : 1.49/n * A * math.pow(R, 2/3) * math.sqrt(s) #define lambda function\n",
    "\n",
    "res=[]"
   ]
  },
  {
   "cell_type": "code",
   "execution_count": 61,
   "id": "1708afe0",
   "metadata": {},
   "outputs": [],
   "source": [
    "#Given parameters\n",
    "Q=15000  #cfs\n",
    "B=600    #ft\n",
    "n=0.002\n",
    "s=0.03\n",
    "l=1     #mile\n",
    "angle=45 #degrees\n",
    "y=5 #ft"
   ]
  },
  {
   "cell_type": "code",
   "execution_count": 71,
   "id": "e577b450",
   "metadata": {},
   "outputs": [
    {
     "ename": "IndentationError",
     "evalue": "unexpected indent (4052524584.py, line 12)",
     "output_type": "error",
     "traceback": [
      "\u001b[1;36m  Cell \u001b[1;32mIn [71], line 12\u001b[1;36m\u001b[0m\n\u001b[1;33m    return Q\u001b[0m\n\u001b[1;37m    ^\u001b[0m\n\u001b[1;31mIndentationError\u001b[0m\u001b[1;31m:\u001b[0m unexpected indent\n"
     ]
    }
   ],
   "source": [
    "def TrapezoidalQ(n,b,y,z,s):\n",
    "# n is Manning's n  \n",
    "# b = Bottom width of channel (ft)\n",
    "# y = Depth of channel (ft)\n",
    "# z = Side slope of channel (horizontal)\n",
    "# s =  slope of channel \n",
    "   A = b*y + z*y*y\n",
    "   W = b + 2*y*math.sqrt(1 + z*z)\n",
    "   R = A/W\n",
    "   Q = 1.49/n * A * math.pow(R, 2/3) * math.sqrt(s)\n",
    "B=Q(15000,600,0.002,0.03,)# input values\n",
    "   return Q\n"
   ]
  },
  {
   "cell_type": "code",
   "execution_count": 70,
   "id": "ee1c6b01",
   "metadata": {},
   "outputs": [
    {
     "ename": "IndentationError",
     "evalue": "unexpected indent (3198661246.py, line 3)",
     "output_type": "error",
     "traceback": [
      "\u001b[1;36m  Cell \u001b[1;32mIn [70], line 3\u001b[1;36m\u001b[0m\n\u001b[1;33m    return Q\u001b[0m\n\u001b[1;37m    ^\u001b[0m\n\u001b[1;31mIndentationError\u001b[0m\u001b[1;31m:\u001b[0m unexpected indent\n"
     ]
    }
   ],
   "source": [
    "Q = 1.49/n * A * math.pow(R, 2/3) * math.sqrt(s)\n",
    "B=Q(15000,600,0.002,0.03,)# input values\n",
    "   return Q"
   ]
  },
  {
   "cell_type": "code",
   "execution_count": null,
   "id": "695c18cc",
   "metadata": {},
   "outputs": [],
   "source": []
  }
 ],
 "metadata": {
  "kernelspec": {
   "display_name": "Python 3 (ipykernel)",
   "language": "python",
   "name": "python3"
  },
  "language_info": {
   "codemirror_mode": {
    "name": "ipython",
    "version": 3
   },
   "file_extension": ".py",
   "mimetype": "text/x-python",
   "name": "python",
   "nbconvert_exporter": "python",
   "pygments_lexer": "ipython3",
   "version": "3.9.15"
  }
 },
 "nbformat": 4,
 "nbformat_minor": 5
}
